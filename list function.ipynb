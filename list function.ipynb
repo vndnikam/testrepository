{
 "cells": [
  {
   "cell_type": "code",
   "execution_count": 3,
   "id": "3fdf6ecb",
   "metadata": {},
   "outputs": [],
   "source": [
    "#Data ----> very much flexible with data----> Analaysis---> Machine learning---> Python "
   ]
  },
  {
   "cell_type": "code",
   "execution_count": null,
   "id": "53eb3d9e",
   "metadata": {},
   "outputs": [],
   "source": [
    "# Template of Programming wrt{Python}\n",
    "\n",
    "Step 1 : Create a variable.---> done\n",
    "    \n",
    "         types of variable \n",
    "         1 int--> 1,2,3\n",
    "         2 Float ---> 1.1, 2.2\n",
    "         3 STRING ---> \"Param\"\n",
    "         4 Char----> 'A'\n",
    "        \n",
    "        If you want to store any value into the programming create varaible.\n",
    "\n",
    "Step 2: assign some value to a variable.----> done\n",
    "        =\n",
    "    \n",
    "Step 3 : Perform some logical , Arithmetic operation, Conditional operation to the variable.\n",
    "    \n",
    "                Logical Operation --> AND , OR \n",
    "                Arithmetic Operation ---> + - * / {BODMAS}\n",
    "                Conditional Operation ---> if else , > ,< ,>= . <=, !=\n",
    "                if --> elif\n",
    "                \n",
    "                sign off 11-08-2024\n",
    "                \n",
    "                tommorow : loops\n",
    "                    \n",
    "Step 4: Create a Output variable.\n",
    "    \n",
    "Step 5: assign the step number 3 value to output varaible.\n",
    "\n",
    "Step 6: print the output variable.\n",
    "                \n"
   ]
  },
  {
   "cell_type": "code",
   "execution_count": 16,
   "id": "da14591e",
   "metadata": {},
   "outputs": [
    {
     "name": "stdout",
     "output_type": "stream",
     "text": [
      "Not Eligible\n"
     ]
    }
   ],
   "source": [
    "# vote eligibility program in python : minage 18 maxage 100\n",
    "\n",
    "# input age -> 18 ---> eligible ---> pass\n",
    "# input age -> 17 ---> not eligible---> pass\n",
    "# input age ->100 ---> eligible--->pass\n",
    "# input age -> 101---> not eligible--->pass\n",
    "\n",
    "\n",
    "\n",
    "\n",
    "minage=18\n",
    "maxage=100\n",
    "\n",
    "age=101\n",
    "\n",
    "if age>maxage:                      \n",
    "    print(\"Not Eligible\")\n",
    "elif age>=minage and age<= maxage:\n",
    "    print(\"Eligible\")\n",
    "else:\n",
    "    print(\"Not Eligible\")\n",
    "\n"
   ]
  },
  {
   "cell_type": "code",
   "execution_count": null,
   "id": "9f93b742",
   "metadata": {},
   "outputs": [],
   "source": [
    "#Loops in python \n",
    "1. for loop \n",
    "2. while loop\n",
    "\n"
   ]
  },
  {
   "cell_type": "code",
   "execution_count": 1,
   "id": "4f9430a4",
   "metadata": {},
   "outputs": [
    {
     "name": "stdout",
     "output_type": "stream",
     "text": [
      "1\n",
      "2\n",
      "3\n",
      "4\n",
      "5\n",
      "6\n",
      "7\n",
      "8\n",
      "9\n",
      "10\n"
     ]
    }
   ],
   "source": [
    "# Syntax for for loop in python\n",
    "\n",
    "for i in range(1,11):\n",
    "    print(i)"
   ]
  },
  {
   "cell_type": "code",
   "execution_count": null,
   "id": "5cb5a4a4",
   "metadata": {},
   "outputs": [],
   "source": [
    "in range(a,b)\n",
    "a is always included \n",
    "b is b-1 included\n",
    "\n",
    "range(10,20)\n",
    "a=10\n",
    "b=20-1=19\n",
    "\n",
    "10---19"
   ]
  },
  {
   "cell_type": "code",
   "execution_count": 2,
   "id": "d0eb9c1c",
   "metadata": {},
   "outputs": [
    {
     "name": "stdout",
     "output_type": "stream",
     "text": [
      "11\n",
      "12\n",
      "13\n",
      "14\n",
      "15\n",
      "16\n",
      "17\n",
      "18\n",
      "19\n"
     ]
    }
   ],
   "source": [
    "for i in range(11,20):    #a=11,b=19\n",
    "    print(i)"
   ]
  },
  {
   "cell_type": "code",
   "execution_count": 3,
   "id": "86d4b6fc",
   "metadata": {},
   "outputs": [
    {
     "name": "stdout",
     "output_type": "stream",
     "text": [
      "0\n",
      "1\n",
      "2\n",
      "3\n",
      "4\n",
      "5\n",
      "6\n",
      "7\n",
      "8\n",
      "9\n"
     ]
    }
   ],
   "source": [
    "for i in range(0,10):\n",
    "    print(i)\n",
    "    \n",
    "    \n",
    "x=1\n",
    "while (x<=10):\n",
    "    print(x)\n",
    "    x=x+1"
   ]
  },
  {
   "cell_type": "code",
   "execution_count": 4,
   "id": "7e4a8a7c",
   "metadata": {},
   "outputs": [
    {
     "name": "stdout",
     "output_type": "stream",
     "text": [
      "1\n",
      "2\n",
      "3\n",
      "4\n",
      "5\n",
      "6\n",
      "7\n",
      "8\n",
      "9\n",
      "10\n"
     ]
    }
   ],
   "source": [
    "for i in range(1,11):\n",
    "    print(i)"
   ]
  },
  {
   "cell_type": "code",
   "execution_count": null,
   "id": "d14b0a46",
   "metadata": {},
   "outputs": [],
   "source": [
    "for i in range(1,11):-----> for 1 in range(1,11):\n",
    "                                   print(i)--> print(1)\n",
    "                            for 2 in range(1,11):\n",
    "                                  print(i)---print(2)"
   ]
  },
  {
   "cell_type": "code",
   "execution_count": 5,
   "id": "25af7233",
   "metadata": {},
   "outputs": [
    {
     "name": "stdout",
     "output_type": "stream",
     "text": [
      "1\n",
      "2\n",
      "3\n",
      "4\n",
      "5\n",
      "6\n",
      "7\n",
      "8\n",
      "9\n",
      "10\n"
     ]
    }
   ],
   "source": [
    "# syntax for while loop\n",
    "x=1\n",
    "while (x<=10):\n",
    "    print(x)\n",
    "    x=x+1\n",
    "    "
   ]
  },
  {
   "cell_type": "code",
   "execution_count": null,
   "id": "37039460",
   "metadata": {},
   "outputs": [],
   "source": [
    "1\n",
    "2\n",
    "3\n",
    "4\n",
    "5\n",
    "6\n",
    "7\n",
    "8\n",
    "9\n",
    "10"
   ]
  },
  {
   "cell_type": "code",
   "execution_count": null,
   "id": "e99f556a",
   "metadata": {},
   "outputs": [],
   "source": []
  },
  {
   "cell_type": "code",
   "execution_count": null,
   "id": "0ef9510e",
   "metadata": {},
   "outputs": [],
   "source": [
    "x=1\n",
    "while (1<=10):\n",
    "    print(x)---> print(1)\n",
    "    x=x+1--> x=1+1= 2\n",
    "    \n",
    "    \n",
    "while (2<=10):\n",
    "      print(x)--> print(2)\n",
    "        x=x+1= x=2+1=3\n",
    "        \n",
    "while (3<=10):\n",
    "      print(x)---> print(3)\n",
    "      x=x+1= 3+1=4\n",
    "    \n",
    "    \n",
    "while (4<=10):\n",
    "      print(x)---> print(4)\n",
    "      x=x+1= x=4+1= 5\n",
    "    \n",
    "while (5<=10):\n",
    "      print(x)---> print(5)\n",
    "      x=x+1=6\n",
    "    \n",
    "while (6<=10):\n",
    "      print(x)---> print(6)\n",
    "      x=7\n",
    "while (7<=10):\n",
    "      print(x)--> print(7)\n",
    "      x=8\n",
    "    \n",
    "while (8<=10):\n",
    "      print(x)--> print(8)\n",
    "      x=9\n",
    "while (9<=10):\n",
    "       print(x)---> print(9)\n",
    "       x=10\n",
    "    \n",
    "while (10<=10):\n",
    "      print(x)---> print(10)\n",
    "      x=11\n",
    "    \n",
    "while (11<=10):\n",
    "      false\n",
    "        "
   ]
  },
  {
   "cell_type": "code",
   "execution_count": 6,
   "id": "d7fc1a73",
   "metadata": {},
   "outputs": [
    {
     "name": "stdout",
     "output_type": "stream",
     "text": [
      "55\n"
     ]
    }
   ],
   "source": [
    "# 1-10 sum --> 1+2+3+4+...10 =?\n",
    "\n",
    "sum=0\n",
    "for i in range(1,11):\n",
    "    sum=sum+i\n",
    "\n",
    "print(sum)"
   ]
  },
  {
   "cell_type": "code",
   "execution_count": null,
   "id": "b831e398",
   "metadata": {},
   "outputs": [],
   "source": [
    "sum=0\n",
    "for i in range(1,11):---> 1\n",
    "    sum=sum+i\n",
    "i=1\n",
    "\n",
    "sum=sum+1--> 0+1=1\n",
    "sum=1\n",
    "\n",
    "i=2\n",
    "sum=sum+2---> 1+2\n",
    "sum=3\n",
    "\n",
    "i=3\n",
    "sum=sum+3\n",
    "sum=6\n",
    "\n",
    "i=4\n",
    "sum=sum+i\n",
    "sum=6+4=10\n",
    "\n",
    "i=5\n",
    "sum=sum+5\n",
    "sum=10+5=15\n",
    "\n",
    "i=6\n",
    "sum=sum+i\n",
    "sum=15+6=21\n",
    "\n",
    "i=7\n",
    "\n",
    "sum=sum+i\n",
    "sum=21+7=28\n",
    "\n",
    "i=8\n",
    "sum=sum+i\n",
    "sum=28+8=36\n",
    "\n",
    "i=9\n",
    "sum=sum+i\n",
    "sum=36+9=45\n",
    "\n",
    "i=10\n",
    "sum=sum+i\n",
    "sum=45+10 =55\n"
   ]
  },
  {
   "cell_type": "code",
   "execution_count": 13,
   "id": "d7e0e99a",
   "metadata": {},
   "outputs": [
    {
     "name": "stdout",
     "output_type": "stream",
     "text": [
      "2 X 1 = 2\n",
      "2 X 2 = 4\n",
      "2 X 3 = 6\n",
      "2 X 4 = 8\n",
      "2 X 5 = 10\n",
      "2 X 6 = 12\n",
      "2 X 7 = 14\n",
      "2 X 8 = 16\n",
      "2 X 9 = 18\n",
      "2 X 10 = 20\n"
     ]
    }
   ],
   "source": [
    "# Q1. assignmemnt  is calculate 1-10 naturan number sum using while loop.\n",
    "# Q2. 7,9,13 print the table using for loop and while loop.\n",
    "\n",
    "\n",
    "for i in range(1,11):\n",
    "    print(\"2 X\",i,\"=\",i*2)\n"
   ]
  },
  {
   "cell_type": "code",
   "execution_count": 3,
   "id": "ee69834a",
   "metadata": {},
   "outputs": [
    {
     "name": "stdout",
     "output_type": "stream",
     "text": [
      "Sum of first natural number is:  55\n"
     ]
    }
   ],
   "source": [
    "# Q1. assignmemnt  is calculate 1-10 naturan number sum using while loop.\n",
    "\n",
    "sum=0\n",
    "x=1\n",
    "while(x<=10):\n",
    "    sum=sum+x\n",
    "    x=x+1\n",
    "print(\"Sum of first natural number is: \", sum)"
   ]
  },
  {
   "cell_type": "code",
   "execution_count": 4,
   "id": "f0749417",
   "metadata": {},
   "outputs": [
    {
     "name": "stdout",
     "output_type": "stream",
     "text": [
      "7 X 1 = 7\n",
      "7 X 2 = 14\n",
      "7 X 3 = 21\n",
      "7 X 4 = 28\n",
      "7 X 5 = 35\n",
      "7 X 6 = 42\n",
      "7 X 7 = 49\n",
      "7 X 8 = 56\n",
      "7 X 9 = 63\n",
      "7 X 10 = 70\n"
     ]
    }
   ],
   "source": [
    " #Q2. 7,9,13 print the table using for loop and while loop.\n",
    "\n",
    "for i in range(1,11):\n",
    "    print(\"7 X\",i,\"=\",i*7)"
   ]
  },
  {
   "cell_type": "code",
   "execution_count": 5,
   "id": "39b76cc3",
   "metadata": {},
   "outputs": [
    {
     "name": "stdout",
     "output_type": "stream",
     "text": [
      "7 X 1 = 7\n",
      "7 X 2 = 14\n",
      "7 X 3 = 21\n",
      "7 X 4 = 28\n",
      "7 X 5 = 35\n",
      "7 X 6 = 42\n",
      "7 X 7 = 49\n",
      "7 X 8 = 56\n",
      "7 X 9 = 63\n",
      "7 X 10 = 70\n"
     ]
    }
   ],
   "source": [
    "\n",
    "x=1\n",
    "while(x<=10):\n",
    "    print(\"7 X\",x,\"=\",x*7)\n",
    "    x=x+1"
   ]
  },
  {
   "cell_type": "code",
   "execution_count": null,
   "id": "48cb31b7",
   "metadata": {},
   "outputs": [],
   "source": [
    "# Data structures in Python\n",
    "1. List------> []\n",
    "2. Tuple------> ()\n",
    "3. String-----> \"param\"\n",
    "4. Dictionary---> {}\n",
    "5. Set----> {}"
   ]
  },
  {
   "cell_type": "code",
   "execution_count": null,
   "id": "eeed33d7",
   "metadata": {},
   "outputs": [],
   "source": [
    "# List in Python\n",
    "\n",
    "mylist=[]\n",
    "we created a list type variable \n",
    "\n",
    "a=1\n",
    "we created int type variable\n",
    "\n",
    "b=\"Param\"\n",
    "we created string type variable"
   ]
  },
  {
   "cell_type": "code",
   "execution_count": 7,
   "id": "9df429c2",
   "metadata": {},
   "outputs": [
    {
     "name": "stdout",
     "output_type": "stream",
     "text": [
      "[1, 2, 1.1, 1.2, 'Param', 'Shergill', 'A', (1, 2)]\n"
     ]
    }
   ],
   "source": [
    "mylist=[1,2,1.1,1.2,\"Param\",\"Shergill\",'A',(1,2)]\n",
    "print(mylist)"
   ]
  },
  {
   "cell_type": "code",
   "execution_count": null,
   "id": "37ea355b",
   "metadata": {},
   "outputs": [],
   "source": [
    "# Charstc. of List\n",
    "1. List contain all types of data types means i can store int,string,float..., value inside the list\n",
    "2. List is ordered type\n"
   ]
  },
  {
   "cell_type": "code",
   "execution_count": null,
   "id": "c308d911",
   "metadata": {},
   "outputs": [],
   "source": [
    "# List function in python\n",
    "1. len()--> count of element present in the list\n",
    "2. append()---> it will add the element at the last or end\n",
    "3. remove()----> you can remove the value from the list based on the list element value\n",
    "4. sort()---> sort the list on based on asc order\n",
    "5. pop()-----> you can remove the value from the list based on index number\n",
    "6. reverse()---> list reverse\n",
    "7. insert()"
   ]
  },
  {
   "cell_type": "code",
   "execution_count": 9,
   "id": "b3e3043c",
   "metadata": {},
   "outputs": [
    {
     "name": "stdout",
     "output_type": "stream",
     "text": [
      "6\n"
     ]
    }
   ],
   "source": [
    "mylist=[1,2,3,4,5,6]\n",
    "len(mylist)\n",
    "print(len(mylist))"
   ]
  },
  {
   "cell_type": "code",
   "execution_count": 11,
   "id": "e2b5a07e",
   "metadata": {},
   "outputs": [
    {
     "data": {
      "text/plain": [
       "[1, 2, 3, 4, 5, 6, 0]"
      ]
     },
     "execution_count": 11,
     "metadata": {},
     "output_type": "execute_result"
    }
   ],
   "source": [
    "mylist=[1,2,3,4,5,6]\n",
    "mylist.append(0)\n",
    "mylist"
   ]
  },
  {
   "cell_type": "code",
   "execution_count": 12,
   "id": "609f9ff1",
   "metadata": {},
   "outputs": [
    {
     "data": {
      "text/plain": [
       "[1, 2, 4, 5, 6]"
      ]
     },
     "execution_count": 12,
     "metadata": {},
     "output_type": "execute_result"
    }
   ],
   "source": [
    "mylist=[1,2,3,4,5,6]\n",
    "mylist.remove(3)\n",
    "mylist"
   ]
  },
  {
   "cell_type": "code",
   "execution_count": 14,
   "id": "d9b97cd7",
   "metadata": {},
   "outputs": [
    {
     "data": {
      "text/plain": [
       "[1, 2, 3, 4, 6]"
      ]
     },
     "execution_count": 14,
     "metadata": {},
     "output_type": "execute_result"
    }
   ],
   "source": [
    "mylist=[1,2,3,4,5,6]\n",
    "mylist.pop(4)\n",
    "mylist"
   ]
  },
  {
   "cell_type": "code",
   "execution_count": 15,
   "id": "0de1e7c0",
   "metadata": {},
   "outputs": [
    {
     "data": {
      "text/plain": [
       "[3, 4, 7, 22, 56, 445, 566]"
      ]
     },
     "execution_count": 15,
     "metadata": {},
     "output_type": "execute_result"
    }
   ],
   "source": [
    "mylist=[22,4,56,3,7,445,566]\n",
    "mylist.sort()\n",
    "mylist"
   ]
  },
  {
   "cell_type": "code",
   "execution_count": 16,
   "id": "a55efb3d",
   "metadata": {},
   "outputs": [
    {
     "data": {
      "text/plain": [
       "[6, 5, 4, 3, 2, 1]"
      ]
     },
     "execution_count": 16,
     "metadata": {},
     "output_type": "execute_result"
    }
   ],
   "source": [
    "mylist=[1,2,3,4,5,6]\n",
    "mylist.reverse()\n",
    "mylist"
   ]
  },
  {
   "cell_type": "code",
   "execution_count": 19,
   "id": "84accd05",
   "metadata": {},
   "outputs": [
    {
     "data": {
      "text/plain": [
       "[566, 445, 7, 3, 56, 4, 22]"
      ]
     },
     "execution_count": 19,
     "metadata": {},
     "output_type": "execute_result"
    }
   ],
   "source": [
    "mylist=[22,4,56,3,7,445,566]\n",
    "mylist.reverse()\n",
    "mylist"
   ]
  },
  {
   "cell_type": "code",
   "execution_count": 25,
   "id": "72c8dfc1",
   "metadata": {},
   "outputs": [],
   "source": []
  },
  {
   "cell_type": "code",
   "execution_count": 28,
   "id": "a3c51e4f",
   "metadata": {},
   "outputs": [
    {
     "data": {
      "text/plain": [
       "[566, 445, 56, 22, 7, 4, 3]"
      ]
     },
     "execution_count": 28,
     "metadata": {},
     "output_type": "execute_result"
    }
   ],
   "source": [
    "mylist=[22,4,56,3,7,445,566]\n",
    "mylist.sort()\n",
    "mylist.reverse()\n",
    "mylist"
   ]
  },
  {
   "cell_type": "code",
   "execution_count": 31,
   "id": "57913d47",
   "metadata": {},
   "outputs": [
    {
     "data": {
      "text/plain": [
       "[1, 20, 2, 3, 4, 5, 6]"
      ]
     },
     "execution_count": 31,
     "metadata": {},
     "output_type": "execute_result"
    }
   ],
   "source": [
    "mylist=[1,2,3,4,5,6]\n",
    "mylist.insert(1,20)\n",
    "mylist"
   ]
  },
  {
   "cell_type": "code",
   "execution_count": null,
   "id": "abcae986",
   "metadata": {},
   "outputs": [],
   "source": [
    "mylist=[1,2,3,4,5]\n",
    "give me the max value in a list\n",
    "output --> 5"
   ]
  },
  {
   "cell_type": "code",
   "execution_count": 35,
   "id": "f8b0e38f",
   "metadata": {},
   "outputs": [
    {
     "name": "stdout",
     "output_type": "stream",
     "text": [
      "999\n"
     ]
    }
   ],
   "source": [
    "mylist=[1,999,2,3,100,4,5,789]\n",
    "max=mylist[0]\n",
    "for i in mylist:\n",
    "    if max<i:\n",
    "        max=i\n",
    "print(max)\n",
    "    "
   ]
  },
  {
   "cell_type": "code",
   "execution_count": null,
   "id": "a3fa6a8e",
   "metadata": {},
   "outputs": [],
   "source": [
    "# ASSIGMSNET IS MIN THE MINIMUM ---> FOR WHILE\n",
    "#Q2 FINF THE TOTAL SUM OF MYLIST"
   ]
  }
 ],
 "metadata": {
  "kernelspec": {
   "display_name": "Python 3 (ipykernel)",
   "language": "python",
   "name": "python3"
  },
  "language_info": {
   "codemirror_mode": {
    "name": "ipython",
    "version": 3
   },
   "file_extension": ".py",
   "mimetype": "text/x-python",
   "name": "python",
   "nbconvert_exporter": "python",
   "pygments_lexer": "ipython3",
   "version": "3.11.5"
  }
 },
 "nbformat": 4,
 "nbformat_minor": 5
}
